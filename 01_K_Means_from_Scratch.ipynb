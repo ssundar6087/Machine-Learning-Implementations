{
  "nbformat": 4,
  "nbformat_minor": 0,
  "metadata": {
    "colab": {
      "name": "01_K-Means_from_Scratch.ipynb",
      "private_outputs": true,
      "provenance": [],
      "authorship_tag": "ABX9TyMbcYzeFfJo5JcUitN9YlQf",
      "include_colab_link": true
    },
    "kernelspec": {
      "name": "python3",
      "display_name": "Python 3"
    },
    "language_info": {
      "name": "python"
    },
    "gpuClass": "standard"
  },
  "cells": [
    {
      "cell_type": "markdown",
      "metadata": {
        "id": "view-in-github",
        "colab_type": "text"
      },
      "source": [
        "<a href=\"https://colab.research.google.com/github/ssundar6087/Machine-Learning-Implementations/blob/main/01_K_Means_from_Scratch.ipynb\" target=\"_parent\"><img src=\"https://colab.research.google.com/assets/colab-badge.svg\" alt=\"Open In Colab\"/></a>"
      ]
    },
    {
      "cell_type": "code",
      "execution_count": null,
      "metadata": {
        "id": "zv-trp_femdu"
      },
      "outputs": [],
      "source": [
        "import numpy as np\n",
        "import matplotlib.pyplot as plt\n",
        "from sklearn.datasets import make_blobs\n",
        "from scipy.linalg import norm"
      ]
    },
    {
      "cell_type": "code",
      "source": [
        "# Constants\n",
        "RANDOM_SEED = 342\n",
        "N_SAMPLES = 1000\n",
        "N_FEATURES = 2\n",
        "N_CENTERS = 4"
      ],
      "metadata": {
        "id": "Vj5WDY72fiDO"
      },
      "execution_count": null,
      "outputs": []
    },
    {
      "cell_type": "code",
      "source": [
        "X, y = make_blobs(n_samples=N_SAMPLES, n_features=N_FEATURES, centers=N_CENTERS, random_state=RANDOM_SEED)"
      ],
      "metadata": {
        "id": "xU0RQcJifqEW"
      },
      "execution_count": null,
      "outputs": []
    },
    {
      "cell_type": "code",
      "source": [
        "print(X.shape, y.shape)"
      ],
      "metadata": {
        "id": "laCW9BJdfzK2"
      },
      "execution_count": null,
      "outputs": []
    },
    {
      "cell_type": "code",
      "source": [
        "print(np.min(y), np.max(y))"
      ],
      "metadata": {
        "id": "zSZad49Rf04g"
      },
      "execution_count": null,
      "outputs": []
    },
    {
      "cell_type": "code",
      "source": [
        "print(X[:5], y[:5])"
      ],
      "metadata": {
        "id": "SYZPltAGf3hn"
      },
      "execution_count": null,
      "outputs": []
    },
    {
      "cell_type": "code",
      "source": [
        "# plot the data\n",
        "def plot_clusters(X, labels, k):\n",
        "  colors = ['r', 'g', 'b', 'y', 'm']\n",
        "  plt.figure(figsize=(8,8))\n",
        "  for c in range(k):\n",
        "    c_label = labels == c # Get me all points whose label equals c \n",
        "    plt.scatter(X[c_label, 0], X[c_label, 1], color=colors[c], marker='.', s=15)"
      ],
      "metadata": {
        "id": "qeT0lvYIf7cR"
      },
      "execution_count": null,
      "outputs": []
    },
    {
      "cell_type": "code",
      "source": [
        "plot_clusters(X, y, N_CENTERS)"
      ],
      "metadata": {
        "id": "i6ifX1rIgXj5"
      },
      "execution_count": null,
      "outputs": []
    },
    {
      "cell_type": "code",
      "source": [
        "# Steps in K-means\n",
        "#1. Initialize centroids randomly \n",
        "#2. Assign each data point to closest centroid\n",
        "#3. Update centroid positions\n",
        "#4. Repeat 2 & 3 until convergence"
      ],
      "metadata": {
        "id": "0L3Hu9X_gaUR"
      },
      "execution_count": null,
      "outputs": []
    },
    {
      "cell_type": "code",
      "source": [
        "a = range(10)"
      ],
      "metadata": {
        "id": "QqpRegzmgwng"
      },
      "execution_count": null,
      "outputs": []
    },
    {
      "cell_type": "code",
      "source": [
        "random_values = np.random.choice(a, size=N_CENTERS, replace=False)"
      ],
      "metadata": {
        "id": "5rxiQluSgymb"
      },
      "execution_count": null,
      "outputs": []
    },
    {
      "cell_type": "code",
      "source": [
        "random_values"
      ],
      "metadata": {
        "id": "oyY5p4XJg58x"
      },
      "execution_count": null,
      "outputs": []
    },
    {
      "cell_type": "code",
      "source": [
        "centroid_idxs = np.random.choice(range(N_SAMPLES), size=N_CENTERS, replace=False)"
      ],
      "metadata": {
        "id": "1VcCdJi1g64K"
      },
      "execution_count": null,
      "outputs": []
    },
    {
      "cell_type": "code",
      "source": [
        "centroid_idxs"
      ],
      "metadata": {
        "id": "bH20lQbyhA6r"
      },
      "execution_count": null,
      "outputs": []
    },
    {
      "cell_type": "code",
      "source": [
        "X[centroid_idxs]"
      ],
      "metadata": {
        "id": "HjP1YQ8qhBxK"
      },
      "execution_count": null,
      "outputs": []
    },
    {
      "cell_type": "code",
      "source": [
        "def plot_clusters_with_centers(X, labels, centers, k):\n",
        "  colors = ['r', 'g', 'b', 'y', 'm']\n",
        "  plt.figure(figsize=(8,8))\n",
        "  for c in range(k):\n",
        "    c_label = labels == c # Get me all points whose label equals c \n",
        "    plt.scatter(X[c_label, 0], X[c_label, 1], color=colors[c], marker='.', s=15, alpha=0.3)\n",
        "  plt.scatter(centers[:, 0], centers[:, 1], color='c', marker='x', s=100)"
      ],
      "metadata": {
        "id": "ddUABRqihEqw"
      },
      "execution_count": null,
      "outputs": []
    },
    {
      "cell_type": "code",
      "source": [
        "plot_clusters_with_centers(X, y, X[centroid_idxs], N_CENTERS)"
      ],
      "metadata": {
        "id": "dRl33FVXhevM"
      },
      "execution_count": null,
      "outputs": []
    },
    {
      "cell_type": "code",
      "source": [
        "# 2. Compute distance of each point to all centroids and assign to closest centroid\n",
        "# Euclidean distance\n",
        "a = np.arange(0, 8).reshape(-1, 2)"
      ],
      "metadata": {
        "id": "NXsZVNpUhmVX"
      },
      "execution_count": null,
      "outputs": []
    },
    {
      "cell_type": "code",
      "source": [
        "a"
      ],
      "metadata": {
        "id": "PuuLT6xPh457"
      },
      "execution_count": null,
      "outputs": []
    },
    {
      "cell_type": "code",
      "source": [
        "b = np.array([1, 1])"
      ],
      "metadata": {
        "id": "WdokLVH-h5Um"
      },
      "execution_count": null,
      "outputs": []
    },
    {
      "cell_type": "code",
      "source": [
        "((a[0, 0] - b[0])**2 + (a[0, 1] - b[1])**2)**0.5"
      ],
      "metadata": {
        "id": "Q71-d-S1h9sG"
      },
      "execution_count": null,
      "outputs": []
    },
    {
      "cell_type": "code",
      "source": [
        "((a[1, 0] - b[0])**2 + (a[1, 1] - b[1])**2)**0.5"
      ],
      "metadata": {
        "id": "kWR-McFsiFnt"
      },
      "execution_count": null,
      "outputs": []
    },
    {
      "cell_type": "code",
      "source": [
        "norm((a - b), axis=1)"
      ],
      "metadata": {
        "id": "JKLZzkTEiRPN"
      },
      "execution_count": null,
      "outputs": []
    },
    {
      "cell_type": "code",
      "source": [
        "np.sum(a, axis=0)"
      ],
      "metadata": {
        "id": "-ytAcEhviUAY"
      },
      "execution_count": null,
      "outputs": []
    },
    {
      "cell_type": "code",
      "source": [
        "np.sum(a, axis=1)"
      ],
      "metadata": {
        "id": "lRUaPWFjie6j"
      },
      "execution_count": null,
      "outputs": []
    },
    {
      "cell_type": "code",
      "source": [
        "centroids = X[centroid_idxs]"
      ],
      "metadata": {
        "id": "tcGXg2NxijGZ"
      },
      "execution_count": null,
      "outputs": []
    },
    {
      "cell_type": "code",
      "source": [
        "distances = np.empty(shape=(N_SAMPLES, N_CENTERS))\n",
        "for i, centroid in enumerate(centroids):\n",
        "  distance = np.array(norm(X - centroid, axis=1))\n",
        "  distances[:,i] = distance"
      ],
      "metadata": {
        "id": "vDry9deYipbY"
      },
      "execution_count": null,
      "outputs": []
    },
    {
      "cell_type": "code",
      "source": [
        "distances[:5]"
      ],
      "metadata": {
        "id": "wBHAsZ5YiyiP"
      },
      "execution_count": null,
      "outputs": []
    },
    {
      "cell_type": "code",
      "source": [
        "distances.shape"
      ],
      "metadata": {
        "id": "rZTyDrtYjGw7"
      },
      "execution_count": null,
      "outputs": []
    },
    {
      "cell_type": "code",
      "source": [
        "# Problem of scale! \n",
        "# 10000, 25, 8\n",
        "# 40000, 40, 10\n",
        "# Normalize features before fitting model"
      ],
      "metadata": {
        "id": "pSq9ys4JjJ_R"
      },
      "execution_count": null,
      "outputs": []
    },
    {
      "cell_type": "code",
      "source": [
        "from sklearn.preprocessing import StandardScaler\n",
        "scaler = StandardScaler()\n",
        "X_scaled = scaler.fit_transform(X)"
      ],
      "metadata": {
        "id": "fx2mWJfLjar-"
      },
      "execution_count": null,
      "outputs": []
    },
    {
      "cell_type": "code",
      "source": [
        "assert X_scaled.shape == X.shape"
      ],
      "metadata": {
        "id": "7cH5hUPCji0m"
      },
      "execution_count": null,
      "outputs": []
    },
    {
      "cell_type": "code",
      "source": [
        "X_scaled[:5], X[:5]"
      ],
      "metadata": {
        "id": "5Rs_lVWojk2T"
      },
      "execution_count": null,
      "outputs": []
    },
    {
      "cell_type": "code",
      "source": [
        "centroids"
      ],
      "metadata": {
        "id": "h05M2GTLjoO3"
      },
      "execution_count": null,
      "outputs": []
    },
    {
      "cell_type": "code",
      "source": [
        "centroids = X_scaled[centroid_idxs]"
      ],
      "metadata": {
        "id": "5sV4i1_Jjydv"
      },
      "execution_count": null,
      "outputs": []
    },
    {
      "cell_type": "code",
      "source": [
        "centroids"
      ],
      "metadata": {
        "id": "0S9fpQhvj1GK"
      },
      "execution_count": null,
      "outputs": []
    },
    {
      "cell_type": "code",
      "source": [
        "# Finding the closest centroid for each point\n",
        "for i, point in enumerate(X_scaled):\n",
        "  distances = [norm(point - centroid) for centroid in centroids]\n",
        "  print(distances)\n",
        "  print(np.argmin(distances)) # Returns the minimum value's index along the specified axis\n",
        "  print(centroids[np.argmin(distances),:])\n",
        "\n",
        "  if i == 3:\n",
        "    break"
      ],
      "metadata": {
        "id": "Hndtv0jwj1wV"
      },
      "execution_count": null,
      "outputs": []
    },
    {
      "cell_type": "code",
      "source": [
        "def assign_clusters(X, centroids):\n",
        "  n_samples = X.shape[0]\n",
        "  k = len(centroids)\n",
        "  distances = np.empty((n_samples, k))\n",
        "  for i, centroid in enumerate(centroids):\n",
        "    distances[:, i] = np.array(norm(X - centroid, axis=1))\n",
        "  closest_centroid = np.argmin(distances, axis=1) # Minimum along each row\n",
        "  return closest_centroid "
      ],
      "metadata": {
        "id": "BkD-3EZskKxV"
      },
      "execution_count": null,
      "outputs": []
    },
    {
      "cell_type": "code",
      "source": [
        "labels_for_data = assign_clusters(X_scaled, centroids)"
      ],
      "metadata": {
        "id": "GQrC0FZ5kqni"
      },
      "execution_count": null,
      "outputs": []
    },
    {
      "cell_type": "code",
      "source": [
        "labels_for_data.shape"
      ],
      "metadata": {
        "id": "pe1LfpEpkvx-"
      },
      "execution_count": null,
      "outputs": []
    },
    {
      "cell_type": "code",
      "source": [
        "labels_for_data[:10]"
      ],
      "metadata": {
        "id": "r-P-NfPYkygV"
      },
      "execution_count": null,
      "outputs": []
    },
    {
      "cell_type": "code",
      "source": [
        "# 3. Update centroids based on cluster labels\n",
        "new_centroids = []\n",
        "for c in range(N_CENTERS):\n",
        "  cluster_data = X_scaled[labels_for_data == c] # pick all points with label == c\n",
        "  new_centroids.append(np.mean(cluster_data, axis=0))\n",
        "  "
      ],
      "metadata": {
        "id": "69sYlOR0k0rj"
      },
      "execution_count": null,
      "outputs": []
    },
    {
      "cell_type": "code",
      "source": [
        "np.array(new_centroids).shape"
      ],
      "metadata": {
        "id": "m0TCOey_lI4f"
      },
      "execution_count": null,
      "outputs": []
    },
    {
      "cell_type": "code",
      "source": [
        "new_centroids"
      ],
      "metadata": {
        "id": "1wA7bHIYlLvq"
      },
      "execution_count": null,
      "outputs": []
    },
    {
      "cell_type": "code",
      "source": [
        "centroids"
      ],
      "metadata": {
        "id": "EM_JgPu8lNkA"
      },
      "execution_count": null,
      "outputs": []
    },
    {
      "cell_type": "code",
      "source": [
        "# Step 4: Loop steps 2 & 3 until convergence"
      ],
      "metadata": {
        "id": "YLElCjXmlOgH"
      },
      "execution_count": null,
      "outputs": []
    },
    {
      "cell_type": "code",
      "source": [
        "from numpy.lib.function_base import kaiser\n",
        "# Putting it all together\n",
        "class KMeans():\n",
        "  def __init__(self, k, tolerance, max_iters):\n",
        "    self.k = k \n",
        "    self.tolerance = tolerance \n",
        "    self.max_iters = max_iters \n",
        "    self.inertia = 0.0 # Evaluating K-means\n",
        "    self.centroids = []\n",
        "  \n",
        "  # Step 1: Init Centroids\n",
        "  def init_centroids(self, X):\n",
        "    n_samples = X.shape[0]\n",
        "    centroid_idxs = np.random.choice(range(n_samples), size=self.k, replace=False)\n",
        "    return X[centroid_idxs]\n",
        "  \n",
        "  # Step 2: Assign points to clusters\n",
        "  def assign_clusters(self, X):\n",
        "    n_samples = X.shape[0] \n",
        "    distances = np.empty((n_samples, self.k))\n",
        "    for c in range(self.k):\n",
        "      distances[:, c] = norm(X - self.centroids[c], axis=1)\n",
        "    labels = np.argmin(distances, axis=1)\n",
        "    return labels \n",
        "  \n",
        "  # Step 3: Update centroids\n",
        "  def update_centroids(self, X, labels):\n",
        "    new_centroids = []\n",
        "    for c in range(self.k):\n",
        "      cluster_data = X[labels == c]\n",
        "      new_centroids.append(np.mean(cluster_data, axis=0))\n",
        "    return np.array(new_centroids)\n",
        "  \n",
        "  # Measure K-means performance\n",
        "  def compute_inertia(self, X, labels):\n",
        "    for c in range(self.k):\n",
        "      cluster_data = X[labels == c]\n",
        "      within_cluster_distance = np.sum(norm(cluster_data - self.centroids[c], axis=1)**2)\n",
        "      self.inertia += within_cluster_distance\n",
        "    return self.inertia \n",
        "  \n",
        "  # Combine all steps \n",
        "  def fit(self, X):\n",
        "    self.centroids = self.init_centroids(X)\n",
        "    for i in range(self.max_iters):\n",
        "      cluster_labels = self.assign_clusters(X)\n",
        "      prev_centroids = self.centroids # Save to calculate displacement\n",
        "      self.centroids = self.update_centroids(X, cluster_labels)\n",
        "\n",
        "      # Check if converged\n",
        "      displacement = 0.0\n",
        "      for c in range(self.k):\n",
        "        displacement += norm(prev_centroids[c] - self.centroids[c])\n",
        "      \n",
        "      if displacement < self.tolerance:\n",
        "        print(f\"Converged in {i + 1} iterations\\n\")\n",
        "        self.compute_inertia(X, cluster_labels)\n",
        "        return self.centroids, cluster_labels, self.inertia \n",
        "    \n",
        "    self.compute_inertia(X, cluster_labels)\n",
        "    return self.centroids, cluster_labels, self.inertia \n",
        "    \n"
      ],
      "metadata": {
        "id": "XmxpDvk6lVgU"
      },
      "execution_count": null,
      "outputs": []
    },
    {
      "cell_type": "code",
      "source": [
        "my_kmeans = KMeans(k=N_CENTERS, tolerance=1e-4, max_iters=300)"
      ],
      "metadata": {
        "id": "JxRdfAUXoRSK"
      },
      "execution_count": null,
      "outputs": []
    },
    {
      "cell_type": "code",
      "source": [
        "final_centroids, final_labels, inertia = my_kmeans.fit(X_scaled) # Send scaled data :)"
      ],
      "metadata": {
        "id": "POosB-djoXu3"
      },
      "execution_count": null,
      "outputs": []
    },
    {
      "cell_type": "code",
      "source": [
        "print(final_centroids, inertia)"
      ],
      "metadata": {
        "id": "RAcLhbOOodE5"
      },
      "execution_count": null,
      "outputs": []
    },
    {
      "cell_type": "code",
      "source": [
        "plot_clusters_with_centers(X_scaled, final_labels, final_centroids, k=N_CENTERS)"
      ],
      "metadata": {
        "id": "kRuxvVdbofx2"
      },
      "execution_count": null,
      "outputs": []
    },
    {
      "cell_type": "code",
      "source": [
        "# Elbow Rule: How to find K??\n",
        "inertia_scores = []\n",
        "for kk in range(2, 10):\n",
        "  kmeans_obj = KMeans(k=kk, tolerance=1e-4, max_iters=300)\n",
        "  run_centroids, run_labels, run_inertia = kmeans_obj.fit(X_scaled)\n",
        "  inertia_scores.append(run_inertia)"
      ],
      "metadata": {
        "id": "fSAtepuHom63"
      },
      "execution_count": null,
      "outputs": []
    },
    {
      "cell_type": "code",
      "source": [
        "plt.figure(figsize=(8,8))\n",
        "plt.scatter(range(2, 10), inertia_scores, c='r', marker='x', s=100)\n",
        "plt.plot(range(2, 10), inertia_scores)\n",
        "plt.xlabel('k')\n",
        "plt.ylabel('inertia')"
      ],
      "metadata": {
        "id": "ZkQV-xtWpB5Q"
      },
      "execution_count": null,
      "outputs": []
    },
    {
      "cell_type": "code",
      "source": [
        "# Compare with SK-learn's KMeans\n",
        "from sklearn.cluster import KMeans\n",
        "sk_kmeans = KMeans(n_clusters=N_CENTERS)\n",
        "clusters = sk_kmeans.fit_transform(X_scaled)"
      ],
      "metadata": {
        "id": "Kch2q4ItpT2F"
      },
      "execution_count": null,
      "outputs": []
    },
    {
      "cell_type": "code",
      "source": [
        "clusters.shape"
      ],
      "metadata": {
        "id": "Il0GP2pUppPq"
      },
      "execution_count": null,
      "outputs": []
    },
    {
      "cell_type": "code",
      "source": [
        "sk_kmeans.inertia_"
      ],
      "metadata": {
        "id": "sygO6iCcpqm2"
      },
      "execution_count": null,
      "outputs": []
    },
    {
      "cell_type": "code",
      "source": [
        "centers = sk_kmeans.cluster_centers_ \n",
        "plt.figure(figsize=(8,8))\n",
        "plt.scatter(X_scaled[:, 0], X_scaled[:, 1], s=10, c=sk_kmeans.labels_)\n",
        "plt.scatter(centers[:, 0], centers[:, 1], c='r', s=20)"
      ],
      "metadata": {
        "id": "PLCIU4KQptkT"
      },
      "execution_count": null,
      "outputs": []
    },
    {
      "cell_type": "code",
      "source": [
        "# Fin :D"
      ],
      "metadata": {
        "id": "yqhYMRHEqCtP"
      },
      "execution_count": null,
      "outputs": []
    },
    {
      "cell_type": "code",
      "source": [
        ""
      ],
      "metadata": {
        "id": "uXEg_fImqGhX"
      },
      "execution_count": null,
      "outputs": []
    }
  ]
}