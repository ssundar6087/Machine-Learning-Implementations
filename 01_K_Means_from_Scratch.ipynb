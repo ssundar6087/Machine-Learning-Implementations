{
  "nbformat": 4,
  "nbformat_minor": 0,
  "metadata": {
    "colab": {
      "name": "01_K-Means_from_Scratch.ipynb",
      "private_outputs": true,
      "provenance": [],
      "authorship_tag": "ABX9TyPCMiE8nIEvAncITjeyo5gE"
    },
    "kernelspec": {
      "name": "python3",
      "display_name": "Python 3"
    },
    "language_info": {
      "name": "python"
    },
    "gpuClass": "standard"
  },
  "cells": [
    {
      "cell_type": "code",
      "execution_count": null,
      "metadata": {
        "id": "BLIVNep4QZKl"
      },
      "outputs": [],
      "source": [
        "import numpy as np \n",
        "import matplotlib.pyplot as plt \n",
        "from sklearn.datasets import make_blobs \n",
        "from scipy.linalg import norm  "
      ]
    },
    {
      "cell_type": "code",
      "source": [
        "RANDOM_SEED = 342\n",
        "N_SAMPLES = 1000\n",
        "N_FEATURES = 2\n",
        "N_CENTERS = 4"
      ],
      "metadata": {
        "id": "1zlC0swFETZw"
      },
      "execution_count": null,
      "outputs": []
    },
    {
      "cell_type": "code",
      "source": [
        "X, y = make_blobs(n_samples=N_SAMPLES, n_features=N_FEATURES, centers=N_CENTERS, random_state=RANDOM_SEED)"
      ],
      "metadata": {
        "id": "tKdI_WGEEfl0"
      },
      "execution_count": null,
      "outputs": []
    },
    {
      "cell_type": "code",
      "source": [
        "print(X.shape, y.shape)"
      ],
      "metadata": {
        "id": "3Mjy5AXzEp0C"
      },
      "execution_count": null,
      "outputs": []
    },
    {
      "cell_type": "code",
      "source": [
        "print(np.min(y), np.max(y))"
      ],
      "metadata": {
        "id": "twgPyIPPEsUs"
      },
      "execution_count": null,
      "outputs": []
    },
    {
      "cell_type": "code",
      "source": [
        "print(X[:5], y[:5])"
      ],
      "metadata": {
        "id": "p6jBi0O2E0Z0"
      },
      "execution_count": null,
      "outputs": []
    },
    {
      "cell_type": "code",
      "source": [
        "def plot_clusters(X, labels, k):\n",
        "  colors = ['r', 'g', 'b', 'y', 'm']\n",
        "  plt.figure(figsize=(8, 8))\n",
        "  for c in range(k):\n",
        "    c_label = y == c \n",
        "    plt.scatter(X[c_label,0], X[c_label, 1], c=colors[c], marker=\".\", s=15)"
      ],
      "metadata": {
        "id": "_srRvZbPE5aa"
      },
      "execution_count": null,
      "outputs": []
    },
    {
      "cell_type": "code",
      "source": [
        "plot_clusters(X, y, k=N_CENTERS)"
      ],
      "metadata": {
        "id": "ikMDwkXxFpgU"
      },
      "execution_count": null,
      "outputs": []
    },
    {
      "cell_type": "code",
      "source": [
        "a = range(10)\n",
        "a"
      ],
      "metadata": {
        "id": "cABdJyY1Fs04"
      },
      "execution_count": null,
      "outputs": []
    },
    {
      "cell_type": "code",
      "source": [
        "random_values = np.random.choice(a, size=N_CENTERS, replace=False)"
      ],
      "metadata": {
        "id": "1h5sCz2DGAlY"
      },
      "execution_count": null,
      "outputs": []
    },
    {
      "cell_type": "code",
      "source": [
        "random_values"
      ],
      "metadata": {
        "id": "TGBQk1RcGTsD"
      },
      "execution_count": null,
      "outputs": []
    },
    {
      "cell_type": "code",
      "source": [
        "centroid_idxs = np.random.choice(range(N_SAMPLES), size=N_CENTERS, replace=False)"
      ],
      "metadata": {
        "id": "ZFL2f9nmGUjn"
      },
      "execution_count": null,
      "outputs": []
    },
    {
      "cell_type": "code",
      "source": [
        "centroid_idxs"
      ],
      "metadata": {
        "id": "ZC6QzAshGv4S"
      },
      "execution_count": null,
      "outputs": []
    },
    {
      "cell_type": "code",
      "source": [
        "X[centroid_idxs]"
      ],
      "metadata": {
        "id": "kUSjuA_MGxZj"
      },
      "execution_count": null,
      "outputs": []
    },
    {
      "cell_type": "code",
      "source": [
        "def plot_clusters_with_centers(X, labels, centroids, k):\n",
        "  colors = ['r', 'g', 'b', 'y', 'm']\n",
        "  plt.figure(figsize=(8, 8))\n",
        "  for c in range(k):\n",
        "    c_label = y == c \n",
        "    plt.scatter(X[c_label,0], X[c_label, 1], c=colors[c], marker=\".\", s=15, alpha=0.3)\n",
        "  plt.scatter(centroids[:, 0], centroids[:, 1], c='c', marker=\"x\", s=100)"
      ],
      "metadata": {
        "id": "90n02VWDG1Z1"
      },
      "execution_count": null,
      "outputs": []
    },
    {
      "cell_type": "code",
      "source": [
        "plot_clusters_with_centers(X, y, X[centroid_idxs], k=N_CENTERS)"
      ],
      "metadata": {
        "id": "0KUd8cYiHJ_F"
      },
      "execution_count": null,
      "outputs": []
    },
    {
      "cell_type": "code",
      "source": [
        "# 1. Initialize centroids\n",
        "# 2. Compute the distance of data points from the centroids and choose the closest one\n",
        "# 3. Update the centroids\n",
        "# 4. Repeat 2 & 3 until convergence"
      ],
      "metadata": {
        "id": "ij73VsUJHQ80"
      },
      "execution_count": null,
      "outputs": []
    },
    {
      "cell_type": "code",
      "source": [
        "# Euclidean distance\n",
        "a = np.arange(0, 8).reshape(-1, 2)\n",
        "a"
      ],
      "metadata": {
        "id": "UX2w2i7OHtGQ"
      },
      "execution_count": null,
      "outputs": []
    },
    {
      "cell_type": "code",
      "source": [
        "center = np.array([1, 1])"
      ],
      "metadata": {
        "id": "bZo4SFunH9HR"
      },
      "execution_count": null,
      "outputs": []
    },
    {
      "cell_type": "code",
      "source": [
        "((a[0,0] - center[0])**2 + (a[0, 1] - center[1])**2)**0.5"
      ],
      "metadata": {
        "id": "5ZW1WvM-IGrR"
      },
      "execution_count": null,
      "outputs": []
    },
    {
      "cell_type": "code",
      "source": [
        "((a[1,0] - center[0])**2 + (a[1, 1] - center[1])**2)**0.5"
      ],
      "metadata": {
        "id": "PbMGdPcnIUh3"
      },
      "execution_count": null,
      "outputs": []
    },
    {
      "cell_type": "code",
      "source": [
        "norm((a - center), axis=1)"
      ],
      "metadata": {
        "id": "qofE0UjoIXzv"
      },
      "execution_count": null,
      "outputs": []
    },
    {
      "cell_type": "code",
      "source": [
        "np.sum(a, axis=0)"
      ],
      "metadata": {
        "id": "X5zveOdjIhf3"
      },
      "execution_count": null,
      "outputs": []
    },
    {
      "cell_type": "code",
      "source": [
        "np.sum(a, axis=1)"
      ],
      "metadata": {
        "id": "dt4NyTRBIy3c"
      },
      "execution_count": null,
      "outputs": []
    },
    {
      "cell_type": "code",
      "source": [
        "centroids = X[centroid_idxs]"
      ],
      "metadata": {
        "id": "wBudXCN0I5n1"
      },
      "execution_count": null,
      "outputs": []
    },
    {
      "cell_type": "code",
      "source": [
        "distances = np.empty(shape=(N_SAMPLES, N_CENTERS))\n",
        "for i, centroid in enumerate(centroids):\n",
        "  distance = np.array(norm(X-centroid, axis=1))\n",
        "  distances[:, i] = distance "
      ],
      "metadata": {
        "id": "NI83JP7iLs9-"
      },
      "execution_count": null,
      "outputs": []
    },
    {
      "cell_type": "code",
      "source": [
        "distances[:5]"
      ],
      "metadata": {
        "id": "gz9U2kn5MUq6"
      },
      "execution_count": null,
      "outputs": []
    },
    {
      "cell_type": "code",
      "source": [
        "distances.shape"
      ],
      "metadata": {
        "id": "kao8fZllMXut"
      },
      "execution_count": null,
      "outputs": []
    },
    {
      "cell_type": "code",
      "source": [
        "from sklearn.preprocessing import StandardScaler\n",
        "scaler = StandardScaler()\n",
        "X_scaled = scaler.fit_transform(X)"
      ],
      "metadata": {
        "id": "jEv8XRIRMcCU"
      },
      "execution_count": null,
      "outputs": []
    },
    {
      "cell_type": "code",
      "source": [
        "X_scaled.shape, X.shape"
      ],
      "metadata": {
        "id": "Y-jP5CF6M6au"
      },
      "execution_count": null,
      "outputs": []
    },
    {
      "cell_type": "code",
      "source": [
        "X_scaled[:5], X[:5]"
      ],
      "metadata": {
        "id": "pgRNIUAvM8dI"
      },
      "execution_count": null,
      "outputs": []
    },
    {
      "cell_type": "code",
      "source": [
        "centroids = X_scaled[centroid_idxs]"
      ],
      "metadata": {
        "id": "TwD5dYkNM_JZ"
      },
      "execution_count": null,
      "outputs": []
    },
    {
      "cell_type": "code",
      "source": [
        "centroids"
      ],
      "metadata": {
        "id": "8Qq4eXKiNK4G"
      },
      "execution_count": null,
      "outputs": []
    },
    {
      "cell_type": "code",
      "source": [
        "for i, point in enumerate(X_scaled):\n",
        "  distances = [norm(point - centroid) for centroid in centroids]\n",
        "  print(distances)\n",
        "  print(np.argmin(distances))\n",
        "  print(centroids[np.argmin(distances),:])\n",
        "  if i == 3:\n",
        "    break"
      ],
      "metadata": {
        "id": "-ppDFTPhPdrD"
      },
      "execution_count": null,
      "outputs": []
    },
    {
      "cell_type": "code",
      "source": [
        "def assign_clusters(X, centroids):\n",
        "  n_samples = X.shape[0]\n",
        "  k = len(centroids)\n",
        "  distances = np.empty((n_samples, k))\n",
        "  for i, centroid in enumerate(centroids):\n",
        "    distances[:, i] = np.array(norm(X - centroid, axis=1))\n",
        "  closest_centroid = np.argmin(distances, axis=1)\n",
        "  return closest_centroid "
      ],
      "metadata": {
        "id": "WZRh-I9CUYB1"
      },
      "execution_count": null,
      "outputs": []
    },
    {
      "cell_type": "code",
      "source": [
        "temp_labels = assign_clusters(X_scaled, centroids)"
      ],
      "metadata": {
        "id": "Da0_TxKwVHXE"
      },
      "execution_count": null,
      "outputs": []
    },
    {
      "cell_type": "code",
      "source": [
        "temp_labels.shape"
      ],
      "metadata": {
        "id": "16dkm4EOVL9_"
      },
      "execution_count": null,
      "outputs": []
    },
    {
      "cell_type": "code",
      "source": [
        "temp_labels[:10]"
      ],
      "metadata": {
        "id": "H7K1GZJRVN9R"
      },
      "execution_count": null,
      "outputs": []
    },
    {
      "cell_type": "code",
      "source": [
        "# update the centroids:\n",
        "prev_centroids = centroids"
      ],
      "metadata": {
        "id": "wRdU8TywVRZV"
      },
      "execution_count": null,
      "outputs": []
    },
    {
      "cell_type": "code",
      "source": [
        "new_centroids = []\n",
        "for c in range(N_CENTERS):\n",
        "  cluster_data = X_scaled[temp_labels == c]\n",
        "  new_centroids.append(np.mean(cluster_data, axis=0))"
      ],
      "metadata": {
        "id": "L4xrAIiPWjSp"
      },
      "execution_count": null,
      "outputs": []
    },
    {
      "cell_type": "code",
      "source": [
        "np.array(new_centroids).shape"
      ],
      "metadata": {
        "id": "8em5o81FXsxf"
      },
      "execution_count": null,
      "outputs": []
    },
    {
      "cell_type": "code",
      "source": [
        "new_centroids"
      ],
      "metadata": {
        "id": "t_ep_uA3Xt7N"
      },
      "execution_count": null,
      "outputs": []
    },
    {
      "cell_type": "code",
      "source": [
        "prev_centroids"
      ],
      "metadata": {
        "id": "-7znQOzLX0Ob"
      },
      "execution_count": null,
      "outputs": []
    },
    {
      "cell_type": "code",
      "source": [
        "class KMeans():\n",
        "  def __init__(self, k, tolerance, max_iters):\n",
        "    self.k = k\n",
        "    self.tolerance = tolerance\n",
        "    self.max_iters = max_iters \n",
        "    self.inertia = 0.0\n",
        "    self.centroids = []\n",
        "\n",
        "  # Step 1: Init centroids\n",
        "  def init_centroids(self, X):\n",
        "    n_samples = X.shape[0]\n",
        "    centroid_idxs = np.random.choice(range(n_samples), size=self.k, replace=False)\n",
        "    return X[centroid_idxs]\n",
        "  \n",
        "  # Step 2: Assign points to the clusters\n",
        "  def assign_clusters(self, X):\n",
        "    n_samples = X.shape[0]\n",
        "    distances = np.empty((n_samples, self.k))\n",
        "    for c in range(self.k):\n",
        "      distances[:, c] = norm(X - self.centroids[c], axis=1)\n",
        "    labels = np.argmin(distances, axis=1)\n",
        "    return labels\n",
        "  \n",
        "  # Step 3: Update centroids\n",
        "  def update_centroids(self, X, labels):\n",
        "    new_centroids = []\n",
        "    for c in range(self.k):\n",
        "      cluster_data = X[labels == c]\n",
        "      new_centroids.append(np.mean(cluster_data, axis=0))\n",
        "    return np.array(new_centroids)\n",
        "  \n",
        "  # Compute Inertia\n",
        "  def compute_inertia(self, X, labels):\n",
        "    for c in range(self.k):\n",
        "      cluster_data = X[labels == c]\n",
        "      within_cluster_distance = np.sum(norm(cluster_data - self.centroids[c], axis=1)**2)\n",
        "      self.inertia += within_cluster_distance\n",
        "    return self.inertia\n",
        "  \n",
        "  def fit(self, X):\n",
        "    self.centroids = self.init_centroids(X)\n",
        "    for i in range(self.max_iters):\n",
        "      cluster_labels = self.assign_clusters(X)\n",
        "      prev_centroids = self.centroids \n",
        "      self.centroids = self.update_centroids(X, cluster_labels)\n",
        "\n",
        "      # Check if converged\n",
        "      displacement = 0.0\n",
        "      for c in range(self.k):\n",
        "        displacement += norm(prev_centroids[c] - self.centroids[c])\n",
        "      \n",
        "      if displacement < self.tolerance:\n",
        "        print(f\"Converged in {i+1} iterations\\n\")\n",
        "        self.compute_inertia(X, cluster_labels)\n",
        "        return self.centroids, cluster_labels, self.inertia\n",
        "    \n",
        "    self.compute_inertia(X, cluster_labels)\n",
        "    return self.centroids, cluster_labels, self.inertia "
      ],
      "metadata": {
        "id": "dBKHiDOfX12f"
      },
      "execution_count": null,
      "outputs": []
    },
    {
      "cell_type": "code",
      "source": [
        "my_kmeans = KMeans(k=N_CENTERS, tolerance=1e-4, max_iters=300)"
      ],
      "metadata": {
        "id": "fHODdQ00btsm"
      },
      "execution_count": null,
      "outputs": []
    },
    {
      "cell_type": "code",
      "source": [
        "final_centroids, final_labels, inertia = my_kmeans.fit(X_scaled)"
      ],
      "metadata": {
        "id": "YCd9NvJ8cmIE"
      },
      "execution_count": null,
      "outputs": []
    },
    {
      "cell_type": "code",
      "source": [
        "print(final_centroids, inertia)"
      ],
      "metadata": {
        "id": "ayNDRSoocsxx"
      },
      "execution_count": null,
      "outputs": []
    },
    {
      "cell_type": "code",
      "source": [
        "plot_clusters_with_centers(X_scaled, final_labels, final_centroids, k=N_CENTERS)"
      ],
      "metadata": {
        "id": "0VaEih1BcwH3"
      },
      "execution_count": null,
      "outputs": []
    },
    {
      "cell_type": "code",
      "source": [
        "inertia_scores = []\n",
        "for kk in range(2, 10):\n",
        "  kmeans_obj = KMeans(kk, tolerance=1e-4, max_iters=300)\n",
        "  centroids, labels, inertia_score = kmeans_obj.fit(X_scaled)\n",
        "  inertia_scores.append(inertia_score)"
      ],
      "metadata": {
        "id": "BnP6saT4c26u"
      },
      "execution_count": null,
      "outputs": []
    },
    {
      "cell_type": "code",
      "source": [
        "plt.figure(figsize=(8,8))\n",
        "plt.scatter(range(2,10),inertia_scores,c='r',marker='x',s=100)\n",
        "plt.plot(range(2,10), inertia_scores)\n",
        "plt.xlabel('k')\n",
        "plt.ylabel('Inertia')"
      ],
      "metadata": {
        "id": "U7XR-UJVdiOA"
      },
      "execution_count": null,
      "outputs": []
    },
    {
      "cell_type": "code",
      "source": [
        "from sklearn.cluster import KMeans\n",
        "sk_kmeans = KMeans(n_clusters=N_CENTERS)\n",
        "clusters = sk_kmeans.fit_transform(X_scaled)"
      ],
      "metadata": {
        "id": "ihKCMEBMej6-"
      },
      "execution_count": null,
      "outputs": []
    },
    {
      "cell_type": "code",
      "source": [
        "clusters.shape"
      ],
      "metadata": {
        "id": "c8xLBKTjfnWH"
      },
      "execution_count": null,
      "outputs": []
    },
    {
      "cell_type": "code",
      "source": [
        "sk_kmeans.inertia_"
      ],
      "metadata": {
        "id": "fjbh7o07gVkZ"
      },
      "execution_count": null,
      "outputs": []
    },
    {
      "cell_type": "code",
      "source": [
        "centers = sk_kmeans.cluster_centers_ \n",
        "plt.figure(figsize=(8,8))\n",
        "plt.scatter(X_scaled[:, 0], X_scaled[:, 1], s=10, c=sk_kmeans.labels_)\n",
        "plt.scatter(centers[:, 0], centers[:, 1], c='r', s=20)"
      ],
      "metadata": {
        "id": "so8qohotgaRr"
      },
      "execution_count": null,
      "outputs": []
    },
    {
      "cell_type": "code",
      "source": [
        ""
      ],
      "metadata": {
        "id": "oCw1imwtg1jH"
      },
      "execution_count": null,
      "outputs": []
    }
  ]
}